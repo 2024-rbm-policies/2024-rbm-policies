{
 "cells": [
  {
   "cell_type": "code",
   "execution_count": 4,
   "metadata": {},
   "outputs": [],
   "source": [
    "import sys\n",
    "sys.path.append('utilities/')\n",
    "sys.path.append('source/')"
   ]
  },
  {
   "cell_type": "code",
   "execution_count": 17,
   "metadata": {},
   "outputs": [],
   "source": [
    "import rbm\n",
    "import RBM_utils\n",
    "import Proteins_utils\n",
    "import numpy\n",
    "import pickle\n",
    "import matplotlib.pyplot as plt"
   ]
  },
  {
   "cell_type": "code",
   "execution_count": 13,
   "metadata": {},
   "outputs": [],
   "source": [
    "# load the model, which has been already trained\n",
    "wwrbm = RBM_utils.loadRBM('policies/WW_RBM.pickle')\n",
    "\n",
    "# load a set of natural sequences as data\n",
    "seqs = Proteins_utils.load_FASTA('policies/WW_domain_MSA.fasta')"
   ]
  },
  {
   "cell_type": "code",
   "execution_count": 21,
   "metadata": {},
   "outputs": [
    {
     "data": {
      "text/plain": [
       "array([[ 9, 12,  5, ...,  2,  6, 12],\n",
       "       [20, 20,  4, ..., 16,  9, 12],\n",
       "       [ 9, 12,  3, ...,  2,  6, 12],\n",
       "       ...,\n",
       "       [ 9, 12, 12, ..., 17,  2, 12],\n",
       "       [ 9, 12,  0, ..., 11, 14, 12],\n",
       "       [ 9, 12,  0, ...,  2,  2, 12]], dtype=int16)"
      ]
     },
     "execution_count": 21,
     "metadata": {},
     "output_type": "execute_result"
    }
   ],
   "source": [
    "# The sequences are represented as a list of numbers (from 0 to 20),\n",
    "# corresponding to the 20 amin-acids plus a gap character used for alignment.\n",
    "seqs"
   ]
  },
  {
   "cell_type": "code",
   "execution_count": 22,
   "metadata": {},
   "outputs": [
    {
     "data": {
      "text/plain": [
       "array([20, 20,  4, 12, 18,  7,  3,  9,  8, 15, 15,  8, 16,  5, 13,  4, 19,\n",
       "       19,  4, 11, 14, 11, 15, 11, 17, 15, 16, 19, 16,  9, 12],\n",
       "      dtype=int16)"
      ]
     },
     "execution_count": 22,
     "metadata": {},
     "output_type": "execute_result"
    }
   ],
   "source": [
    "# all sequences are of length 31\n",
    "seqs[1]"
   ]
  },
  {
   "cell_type": "code",
   "execution_count": 23,
   "metadata": {},
   "outputs": [
    {
     "data": {
      "text/plain": [
       "31"
      ]
     },
     "execution_count": 23,
     "metadata": {},
     "output_type": "execute_result"
    }
   ],
   "source": [
    "len(seqs[1])"
   ]
  },
  {
   "cell_type": "code",
   "execution_count": 16,
   "metadata": {},
   "outputs": [
    {
     "data": {
      "text/plain": [
       "array([-256.00897, -224.40231, -246.14398, ..., -262.92142, -229.47812,\n",
       "       -258.25323], dtype=float32)"
      ]
     },
     "execution_count": 16,
     "metadata": {},
     "output_type": "execute_result"
    }
   ],
   "source": [
    "# we can evaluate the energies of all the sequences, under the model.\n",
    "# The energy is minus the score, so lower energies correspond to better sequences.\n",
    "wwrbm.free_energy(seqs)"
   ]
  },
  {
   "cell_type": "code",
   "execution_count": 20,
   "metadata": {},
   "outputs": [
    {
     "data": {
      "text/plain": [
       "array([-224.40231], dtype=float32)"
      ]
     },
     "execution_count": 20,
     "metadata": {},
     "output_type": "execute_result"
    }
   ],
   "source": [
    "# evaluate the energy a single sequence:\n",
    "wwrbm.free_energy(seqs[1])"
   ]
  }
 ],
 "metadata": {
  "kernelspec": {
   "display_name": ".venv",
   "language": "python",
   "name": "python3"
  },
  "language_info": {
   "codemirror_mode": {
    "name": "ipython",
    "version": 3
   },
   "file_extension": ".py",
   "mimetype": "text/x-python",
   "name": "python",
   "nbconvert_exporter": "python",
   "pygments_lexer": "ipython3",
   "version": "3.12.0"
  }
 },
 "nbformat": 4,
 "nbformat_minor": 2
}

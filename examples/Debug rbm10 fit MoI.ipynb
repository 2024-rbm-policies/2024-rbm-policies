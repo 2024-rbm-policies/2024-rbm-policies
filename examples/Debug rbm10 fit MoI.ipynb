{
 "cells": [
  {
   "cell_type": "code",
   "execution_count": 1,
   "metadata": {},
   "outputs": [],
   "source": [
    "%matplotlib inline\n",
    "import sys\n",
    "sys.path.append('../../rbm10/')\n",
    "sys.path.append('../utilities/')\n",
    "from common_imports import * # The number of CPU cores used can be changed in this file.\n",
    "import dataset_utils, plots_utils,  RBM_utils, evaluate_learning_utils\n",
    "import rbm10"
   ]
  },
  {
   "cell_type": "code",
   "execution_count": 3,
   "metadata": {},
   "outputs": [],
   "source": [
    "dataset_utils.load_mixture_model(globals(),path = '../data/',N=500,M=2,n_c=1,nature='Spin')"
   ]
  },
  {
   "cell_type": "code",
   "execution_count": 7,
   "metadata": {},
   "outputs": [
    {
     "name": "stdout",
     "output_type": "stream",
     "text": [
      "Fitting MOI first\n",
      "Fitting MOI done\n",
      "Starting epoch 1\n",
      "Starting epoch 2\n",
      "AR = 0.000, Increasing N_PT to 3\n",
      "Starting epoch 3\n",
      "Starting epoch 4\n",
      "AR = 0.674, Decreasing N_PT to 2\n",
      "Starting epoch 5\n",
      "Starting epoch 6\n",
      "Starting epoch 7\n",
      "Starting epoch 8\n",
      "Starting epoch 9\n",
      "Starting epoch 10\n",
      "Starting epoch 11\n",
      "Starting epoch 12\n",
      "Starting epoch 13\n",
      "Starting epoch 14\n",
      "Starting epoch 15\n",
      "Starting epoch 16\n",
      "Starting epoch 17\n",
      "Starting epoch 18\n",
      "Starting epoch 19\n",
      "Starting epoch 20\n",
      "Starting epoch 21\n",
      "Starting epoch 22\n",
      "Starting epoch 23\n",
      "Starting epoch 24\n",
      "Starting epoch 25\n",
      "Starting epoch 26\n",
      "Starting epoch 27\n",
      "Starting epoch 28\n",
      "Starting epoch 29\n",
      "Starting epoch 30\n",
      "Starting epoch 31\n",
      "Starting epoch 32\n",
      "Starting epoch 33\n",
      "Starting epoch 34\n",
      "Starting epoch 35\n",
      "Starting epoch 36\n",
      "Starting epoch 37\n",
      "Starting epoch 38\n",
      "Starting epoch 39\n",
      "Starting epoch 40\n",
      "Starting epoch 41\n",
      "Starting epoch 42\n",
      "Starting epoch 43\n",
      "Starting epoch 44\n",
      "Starting epoch 45\n",
      "Starting epoch 46\n",
      "Starting epoch 47\n",
      "Starting epoch 48\n",
      "Starting epoch 49\n",
      "Starting epoch 50\n",
      "Starting epoch 51\n",
      "Starting epoch 52\n",
      "Starting epoch 53\n",
      "Starting epoch 54\n",
      "Starting epoch 55\n",
      "Starting epoch 56\n",
      "Starting epoch 57\n",
      "Starting epoch 58\n",
      "Starting epoch 59\n",
      "Starting epoch 60\n",
      "Starting epoch 61\n",
      "Starting epoch 62\n",
      "Starting epoch 63\n",
      "Starting epoch 64\n",
      "Starting epoch 65\n",
      "Starting epoch 66\n",
      "Starting epoch 67\n",
      "Starting epoch 68\n",
      "Starting epoch 69\n",
      "Starting epoch 70\n",
      "Starting epoch 71\n",
      "Starting epoch 72\n",
      "Starting epoch 73\n",
      "Starting epoch 74\n",
      "Starting epoch 75\n",
      "Starting epoch 76\n",
      "Starting epoch 77\n",
      "Starting epoch 78\n",
      "Starting epoch 79\n",
      "Starting epoch 80\n",
      "Starting epoch 81\n",
      "Starting epoch 82\n",
      "Starting epoch 83\n",
      "Starting epoch 84\n",
      "Starting epoch 85\n",
      "Starting epoch 86\n",
      "Starting epoch 87\n",
      "Starting epoch 88\n",
      "Starting epoch 89\n",
      "Starting epoch 90\n",
      "Starting epoch 91\n",
      "Starting epoch 92\n",
      "Starting epoch 93\n",
      "Starting epoch 94\n",
      "Starting epoch 95\n",
      "Starting epoch 96\n",
      "Starting epoch 97\n",
      "Starting epoch 98\n",
      "Starting epoch 99\n",
      "Starting epoch 100\n"
     ]
    },
    {
     "data": {
      "text/plain": [
       "{}"
      ]
     },
     "execution_count": 7,
     "metadata": {},
     "output_type": "execute_result"
    }
   ],
   "source": [
    "RBM = rbm10.RBM(n_v=500,n_h=5,visible='Spin',hidden='Spin')\n",
    "RBM.fit(train_data,MoI=2,adapt_PT=True, n_iter=100,verbose=0,vverbose=1)"
   ]
  },
  {
   "cell_type": "code",
   "execution_count": 35,
   "metadata": {},
   "outputs": [
    {
     "data": {
      "image/png": "[encoded data removed]",
      "text/plain": [
       "<Figure size 432x288 with 1 Axes>"
      ]
     },
     "metadata": {
      "needs_background": "light"
     },
     "output_type": "display_data"
    }
   ],
   "source": [
    "plt.plot(RBM.betas[:-1],RBM.zlayer._fields[:,0,0,:]);"
   ]
  },
  {
   "cell_type": "code",
   "execution_count": 46,
   "metadata": {},
   "outputs": [
    {
     "data": {
      "image/png": "[encoded data removed]",
      "text/plain": [
       "<Figure size 432x288 with 1 Axes>"
      ]
     },
     "metadata": {
      "needs_background": "light"
     },
     "output_type": "display_data"
    }
   ],
   "source": [
    "def mean_zlayer(self,x):\n",
    "    if x.ndim ==1: x = x[np.newaxis,:]\n",
    "    if self.from_MoI:\n",
    "        return self.zlayer.mean_from_inputs(None, self.vlayer.compute_output(x,self.weights_MoI, direction = 'up'), beta=0)[:,0]\n",
    "    elif self.from_MoI_h:\n",
    "        return self.zlayer.mean_from_inputs(None, self.hlayer.compute_output(x,self.weights_MoI, direction = 'up'), beta=0)[:,0]\n",
    "    else:\n",
    "        print('No zlayer')\n",
    "        return\n",
    "    \n",
    "\n",
    "color = np.argmax(mean_zlayer(RBM,train_data),axis=-1)\n",
    "for c in range(RBM.zlayer.n_c):\n",
    "    plt.hist(RBM.free_energy(train_data[color==c]),bins=100);"
   ]
  },
  {
   "cell_type": "code",
   "execution_count": 47,
   "metadata": {},
   "outputs": [
    {
     "name": "stdout",
     "output_type": "stream",
     "text": [
      "Starting epoch 1\n",
      "Reloading mixture 4, 3.54e-03\n",
      "Reloading mixture 3, 3.64e-03\n",
      "Reloading mixture 0, 3.95e-03\n",
      "Starting epoch 2\n",
      "AR = 0.165, Increasing N_PT to 3\n",
      "Reloading mixture 2, 3.81e-03\n",
      "Reloading mixture 0, 3.54e-03\n",
      "Starting epoch 3\n",
      "AR = 0.652, Decreasing N_PT to 2\n",
      "Reloading mixture 1, 3.70e-03\n",
      "Starting epoch 4\n",
      "Reloading mixture 1, 3.89e-03\n",
      "Reloading mixture 4, 3.65e-03\n",
      "Starting epoch 5\n",
      "Reloading mixture 3, 3.98e-03\n",
      "Starting epoch 6\n",
      "Starting epoch 7\n",
      "Reloading mixture 2, 3.92e-03\n",
      "Reloading mixture 3, 3.92e-03\n",
      "Starting epoch 8\n",
      "Starting epoch 9\n",
      "Starting epoch 10\n",
      "Reloading mixture 0, 3.86e-03\n",
      "Reloading mixture 3, 3.82e-03\n",
      "Starting epoch 11\n",
      "Starting epoch 12\n",
      "Starting epoch 13\n",
      "Starting epoch 14\n",
      "Starting epoch 15\n",
      "Starting epoch 16\n",
      "Reloading mixture 4, 3.90e-03\n",
      "Reloading mixture 3, 3.90e-03\n",
      "Starting epoch 17\n",
      "Starting epoch 18\n",
      "Starting epoch 19\n",
      "Starting epoch 20\n",
      "Starting epoch 21\n",
      "Starting epoch 22\n",
      "Starting epoch 23\n",
      "Starting epoch 24\n",
      "Starting epoch 25\n",
      "Starting epoch 26\n",
      "Starting epoch 27\n",
      "Starting epoch 28\n",
      "Starting epoch 29\n",
      "Starting epoch 30\n",
      "Starting epoch 31\n",
      "Starting epoch 32\n",
      "Starting epoch 33\n",
      "Starting epoch 34\n",
      "Reloading mixture 3, 3.99e-03\n",
      "Reloading mixture 0, 3.98e-03\n",
      "Starting epoch 35\n",
      "Starting epoch 36\n",
      "Starting epoch 37\n",
      "Starting epoch 38\n",
      "Starting epoch 39\n",
      "Starting epoch 40\n",
      "Starting epoch 41\n",
      "Starting epoch 42\n",
      "Starting epoch 43\n",
      "Starting epoch 44\n",
      "Starting epoch 45\n",
      "Starting epoch 46\n",
      "Starting epoch 47\n",
      "Starting epoch 48\n",
      "Starting epoch 49\n",
      "Starting epoch 50\n"
     ]
    },
    {
     "data": {
      "text/plain": [
       "{}"
      ]
     },
     "execution_count": 47,
     "metadata": {},
     "output_type": "execute_result"
    }
   ],
   "source": [
    "RBM = rbm10.RBM(n_v=500,n_h=5,visible='Spin',hidden='Spin')\n",
    "RBM.fit(train_data,MoI_h=5,adapt_PT=True, n_iter=50,verbose=0,vverbose=1)"
   ]
  },
  {
   "cell_type": "code",
   "execution_count": 51,
   "metadata": {},
   "outputs": [
    {
     "data": {
      "image/png": "[encoded data removed]",
      "text/plain": [
       "<Figure size 432x288 with 1 Axes>"
      ]
     },
     "metadata": {
      "needs_background": "light"
     },
     "output_type": "display_data"
    }
   ],
   "source": [
    "color = np.argmax(np.dot(train_data,MoI.cond_muv.T),axis=-1)\n",
    "for c in range(MoI.M):\n",
    "    plt.hist(RBM.free_energy(train_data[color==c]),bins=100);"
   ]
  },
  {
   "cell_type": "code",
   "execution_count": 13,
   "metadata": {},
   "outputs": [
    {
     "name": "stdout",
     "output_type": "stream",
     "text": [
      "Starting epoch 1\n",
      "Starting epoch 2\n",
      "Reloading mixture 3, 3.87e-03\n",
      "Starting epoch 3\n",
      "Starting epoch 4\n",
      "Starting epoch 5\n",
      "Reloading mixture 3, 3.64e-03\n",
      "Reloading mixture 1, 3.54e-03\n",
      "Starting epoch 6\n",
      "Reloading mixture 2, 3.98e-03\n",
      "Reloading mixture 1, 3.66e-03\n",
      "Starting epoch 7\n",
      "Reloading mixture 1, 3.49e-03\n",
      "Reloading mixture 4, 3.21e-03\n",
      "Reloading mixture 4, 3.84e-03\n",
      "Reloading mixture 2, 3.40e-03\n",
      "Starting epoch 8\n",
      "Starting epoch 9\n",
      "Reloading mixture 0, 3.82e-03\n",
      "Reloading mixture 2, 3.56e-03\n",
      "Reloading mixture 1, 3.73e-03\n",
      "Reloading mixture 2, 3.18e-03\n",
      "Starting epoch 10\n",
      "Reloading mixture 2, 3.81e-03\n",
      "Reloading mixture 1, 3.67e-03\n",
      "Starting epoch 11\n",
      "Reloading mixture 0, 3.40e-03\n",
      "Reloading mixture 1, 2.96e-03\n",
      "Reloading mixture 1, 3.65e-03\n",
      "Reloading mixture 2, 3.24e-03\n",
      "Starting epoch 12\n",
      "Reloading mixture 2, 3.65e-03\n",
      "Reloading mixture 0, 3.21e-03\n",
      "Starting epoch 13\n",
      "Reloading mixture 3, 3.70e-03\n",
      "Reloading mixture 0, 3.31e-03\n",
      "Starting epoch 14\n",
      "Reloading mixture 3, 3.90e-03\n",
      "Reloading mixture 0, 3.70e-03\n",
      "Reloading mixture 0, 3.58e-03\n",
      "Reloading mixture 2, 3.04e-03\n",
      "Starting epoch 15\n",
      "Reloading mixture 3, 3.79e-03\n",
      "Reloading mixture 2, 3.41e-03\n",
      "Reloading mixture 2, 3.40e-03\n",
      "Reloading mixture 0, 2.94e-03\n",
      "Starting epoch 16\n",
      "Reloading mixture 0, 3.61e-03\n",
      "Reloading mixture 2, 3.37e-03\n",
      "Starting epoch 17\n",
      "Starting epoch 18\n",
      "Reloading mixture 2, 3.86e-03\n",
      "Reloading mixture 0, 3.69e-03\n",
      "Starting epoch 19\n",
      "Reloading mixture 0, 3.34e-03\n",
      "Reloading mixture 1, 2.75e-03\n",
      "Starting epoch 20\n",
      "Reloading mixture 4, 3.74e-03\n",
      "Reloading mixture 1, 3.28e-03\n",
      "Starting epoch 21\n",
      "Reloading mixture 4, 3.99e-03\n",
      "Reloading mixture 1, 3.85e-03\n",
      "Starting epoch 22\n",
      "Starting epoch 23\n",
      "Starting epoch 24\n",
      "Starting epoch 25\n",
      "Reloading mixture 4, 3.82e-03\n",
      "Reloading mixture 1, 3.73e-03\n",
      "Starting epoch 26\n",
      "Starting epoch 27\n",
      "Starting epoch 28\n",
      "Reloading mixture 4, 3.85e-03\n",
      "Reloading mixture 1, 3.90e-03\n",
      "Starting epoch 29\n",
      "Starting epoch 30\n",
      "Starting epoch 31\n",
      "Starting epoch 32\n",
      "Reloading mixture 1, 3.86e-03\n",
      "Reloading mixture 4, 3.68e-03\n",
      "Starting epoch 33\n",
      "Reloading mixture 3, 3.48e-03\n",
      "Reloading mixture 4, 2.83e-03\n",
      "Starting epoch 34\n",
      "Reloading mixture 4, 3.94e-03\n",
      "Reloading mixture 1, 3.61e-03\n",
      "Starting epoch 35\n",
      "Reloading mixture 1, 3.98e-03\n",
      "Reloading mixture 4, 3.94e-03\n",
      "Starting epoch 36\n",
      "Reloading mixture 4, 3.65e-03\n",
      "Reloading mixture 3, 3.08e-03\n",
      "Starting epoch 37\n",
      "Reloading mixture 3, 3.90e-03\n",
      "Reloading mixture 2, 3.68e-03\n",
      "Reloading mixture 0, 3.31e-03\n",
      "Reloading mixture 2, 2.69e-03\n",
      "Starting epoch 38\n",
      "Reloading mixture 2, 3.85e-03\n",
      "Reloading mixture 3, 3.54e-03\n",
      "Starting epoch 39\n",
      "Reloading mixture 4, 3.36e-03\n",
      "Reloading mixture 3, 2.88e-03\n",
      "Reloading mixture 2, 3.71e-03\n",
      "Reloading mixture 3, 3.27e-03\n",
      "Starting epoch 40\n",
      "Reloading mixture 3, 3.79e-03\n",
      "Starting epoch 41\n",
      "Reloading mixture 2, 3.57e-03\n",
      "Starting epoch 42\n",
      "Starting epoch 43\n",
      "Reloading mixture 3, 3.86e-03\n",
      "Reloading mixture 2, 3.75e-03\n",
      "Reloading mixture 0, 3.47e-03\n",
      "Reloading mixture 2, 2.88e-03\n",
      "Starting epoch 44\n",
      "Reloading mixture 2, 3.90e-03\n",
      "Reloading mixture 0, 3.28e-03\n",
      "Reloading mixture 3, 3.83e-03\n",
      "Reloading mixture 0, 3.43e-03\n",
      "Starting epoch 45\n",
      "Reloading mixture 3, 3.64e-03\n",
      "Reloading mixture 0, 3.37e-03\n",
      "Starting epoch 46\n",
      "Reloading mixture 2, 3.86e-03\n",
      "Reloading mixture 0, 3.18e-03\n",
      "Starting epoch 47\n",
      "Reloading mixture 0, 3.76e-03\n",
      "Reloading mixture 1, 3.53e-03\n",
      "Starting epoch 48\n",
      "Reloading mixture 1, 3.94e-03\n",
      "Reloading mixture 3, 3.70e-03\n",
      "Reloading mixture 3, 3.61e-03\n",
      "Reloading mixture 4, 2.99e-03\n",
      "Starting epoch 49\n",
      "Reloading mixture 4, 3.67e-03\n",
      "Reloading mixture 2, 2.99e-03\n",
      "Starting epoch 50\n",
      "Reloading mixture 2, 3.69e-03\n",
      "Reloading mixture 1, 3.33e-03\n",
      "Reloading mixture 3, 3.81e-03\n",
      "Reloading mixture 1, 3.16e-03\n",
      "Starting epoch 51\n",
      "Reloading mixture 0, 3.82e-03\n",
      "Reloading mixture 1, 3.41e-03\n",
      "Starting epoch 52\n",
      "Reloading mixture 2, 3.71e-03\n",
      "Reloading mixture 1, 3.44e-03\n",
      "Starting epoch 53\n",
      "Reloading mixture 2, 3.70e-03\n",
      "Reloading mixture 1, 3.53e-03\n",
      "Starting epoch 54\n",
      "Starting epoch 55\n",
      "Starting epoch 56\n",
      "Reloading mixture 1, 3.98e-03\n",
      "Reloading mixture 0, 3.86e-03\n",
      "Starting epoch 57\n",
      "Starting epoch 58\n",
      "Starting epoch 59\n",
      "Starting epoch 60\n",
      "Starting epoch 61\n",
      "Starting epoch 62\n",
      "Starting epoch 63\n",
      "Reloading mixture 2, 3.97e-03\n",
      "Reloading mixture 0, 3.87e-03\n",
      "Starting epoch 64\n",
      "Starting epoch 65\n",
      "Starting epoch 66\n",
      "Starting epoch 67\n",
      "Starting epoch 68\n",
      "Starting epoch 69\n",
      "Starting epoch 70\n",
      "Starting epoch 71\n",
      "Reloading mixture 0, 3.92e-03\n",
      "Reloading mixture 1, 3.84e-03\n",
      "Starting epoch 72\n",
      "Starting epoch 73\n",
      "Starting epoch 74\n",
      "Starting epoch 75\n",
      "Starting epoch 76\n",
      "Starting epoch 77\n",
      "Starting epoch 78\n",
      "Starting epoch 79\n",
      "Starting epoch 80\n",
      "Starting epoch 81\n",
      "Reloading mixture 1, 3.94e-03\n",
      "Reloading mixture 2, 3.87e-03\n",
      "Starting epoch 82\n",
      "Starting epoch 83\n",
      "Starting epoch 84\n",
      "Starting epoch 85\n",
      "Starting epoch 86\n",
      "Starting epoch 87\n",
      "Starting epoch 88\n",
      "Starting epoch 89\n",
      "Starting epoch 90\n",
      "Starting epoch 91\n",
      "Starting epoch 92\n",
      "Starting epoch 93\n",
      "Starting epoch 94\n",
      "Reloading mixture 0, 3.89e-03\n",
      "Reloading mixture 2, 3.80e-03\n",
      "Starting epoch 95\n",
      "Starting epoch 96\n",
      "Starting epoch 97\n",
      "Starting epoch 98\n",
      "Starting epoch 99\n",
      "Starting epoch 100\n",
      "Starting epoch 101\n",
      "Starting epoch 102\n",
      "Starting epoch 103\n",
      "Starting epoch 104\n",
      "Starting epoch 105\n",
      "Reloading mixture 2, 3.99e-03\n",
      "Reloading mixture 1, 3.96e-03\n",
      "Reloading mixture 3, 3.88e-03\n",
      "Reloading mixture 1, 3.37e-03\n",
      "Starting epoch 106\n",
      "Starting epoch 107\n",
      "Reloading mixture 0, 3.94e-03\n",
      "Reloading mixture 1, 3.91e-03\n",
      "Starting epoch 108\n",
      "Starting epoch 109\n",
      "Starting epoch 110\n",
      "Starting epoch 111\n",
      "Starting epoch 112\n",
      "Reloading mixture 1, 3.84e-03\n",
      "Reloading mixture 2, 3.89e-03\n",
      "Reloading mixture 3, 3.61e-03\n",
      "Reloading mixture 2, 3.21e-03\n",
      "Starting epoch 113\n",
      "Reloading mixture 4, 3.64e-03\n",
      "Reloading mixture 2, 3.33e-03\n",
      "Starting epoch 114\n",
      "Starting epoch 115\n",
      "Reloading mixture 2, 3.83e-03\n",
      "Reloading mixture 1, 3.69e-03\n",
      "Starting epoch 116\n",
      "Starting epoch 117\n",
      "Starting epoch 118\n",
      "Reloading mixture 1, 3.96e-03\n",
      "Reloading mixture 0, 3.82e-03\n",
      "Starting epoch 119\n",
      "Starting epoch 120\n",
      "Starting epoch 121\n",
      "Starting epoch 122\n",
      "Starting epoch 123\n",
      "Starting epoch 124\n",
      "Reloading mixture 0, 3.98e-03\n",
      "Reloading mixture 2, 3.99e-03\n",
      "Starting epoch 125\n",
      "Starting epoch 126\n",
      "Starting epoch 127\n",
      "Starting epoch 128\n",
      "Starting epoch 129\n",
      "Starting epoch 130\n",
      "Starting epoch 131\n",
      "Starting epoch 132\n",
      "Starting epoch 133\n",
      "Starting epoch 134\n",
      "Starting epoch 135\n",
      "Starting epoch 136\n",
      "Starting epoch 137\n",
      "Starting epoch 138\n",
      "Starting epoch 139\n",
      "Starting epoch 140\n",
      "Starting epoch 141\n",
      "Starting epoch 142\n",
      "Starting epoch 143\n",
      "Starting epoch 144\n",
      "Starting epoch 145\n",
      "Starting epoch 146\n",
      "Starting epoch 147\n",
      "Starting epoch 148\n",
      "Starting epoch 149\n",
      "Starting epoch 150\n",
      "Starting epoch 151\n",
      "Starting epoch 152\n",
      "Starting epoch 153\n",
      "Starting epoch 154\n",
      "Starting epoch 155\n",
      "Starting epoch 156\n",
      "Starting epoch 157\n",
      "Starting epoch 158\n",
      "Starting epoch 159\n",
      "Starting epoch 160\n",
      "Starting epoch 161\n",
      "Starting epoch 162\n",
      "Starting epoch 163\n",
      "Starting epoch 164\n",
      "Starting epoch 165\n",
      "Starting epoch 166\n",
      "Starting epoch 167\n",
      "Starting epoch 168\n",
      "Starting epoch 169\n",
      "Starting epoch 170\n",
      "Starting epoch 171\n",
      "Starting epoch 172\n",
      "Starting epoch 173\n",
      "Starting epoch 174\n",
      "Starting epoch 175\n",
      "Starting epoch 176\n",
      "Starting epoch 177\n",
      "Starting epoch 178\n",
      "Starting epoch 179\n",
      "Starting epoch 180\n",
      "Starting epoch 181\n",
      "Starting epoch 182\n",
      "Starting epoch 183\n",
      "Starting epoch 184\n",
      "Reloading mixture 1, 4.00e-03\n",
      "Starting epoch 185\n",
      "Starting epoch 186\n",
      "Starting epoch 187\n",
      "Starting epoch 188\n",
      "Reloading mixture 2, 4.00e-03\n",
      "Starting epoch 189\n",
      "Starting epoch 190\n",
      "Starting epoch 191\n",
      "Starting epoch 192\n",
      "Starting epoch 193\n",
      "Starting epoch 194\n",
      "Starting epoch 195\n",
      "Starting epoch 196\n",
      "Starting epoch 197\n",
      "Starting epoch 198\n",
      "Starting epoch 199\n",
      "Starting epoch 200\n"
     ]
    }
   ],
   "source": [
    "import rbm10\n",
    "importlib.reload(rbm10)\n",
    "RBM = rbm10.RBM(n_v=500,n_h=2,visible='Spin',hidden='Gaussian')\n",
    "results = RBM.fit(train_data,MoI_h=5,adapt_PT=False,N_PT=2, n_iter=200,verbose=0,vverbose=1,record=['h_gamma','h_gamma0','weights_MoI'],record_interval=10)"
   ]
  },
  {
   "cell_type": "code",
   "execution_count": 16,
   "metadata": {},
   "outputs": [
    {
     "name": "stdout",
     "output_type": "stream",
     "text": [
      "[0.43974918]\n"
     ]
    },
    {
     "data": {
      "image/png": "[encoded data removed]",
      "text/plain": [
       "<Figure size 432x288 with 1 Axes>"
      ]
     },
     "metadata": {
      "needs_background": "light"
     },
     "output_type": "display_data"
    },
    {
     "data": {
      "image/png": "[encoded data removed]",
      "text/plain": [
       "<Figure size 432x288 with 1 Axes>"
      ]
     },
     "metadata": {
      "needs_background": "light"
     },
     "output_type": "display_data"
    },
    {
     "name": "stderr",
     "output_type": "stream",
     "text": [
      "/Users/jerometubiana/anaconda/envs/python3/lib/python3.7/site-packages/matplotlib/figure.py:445: UserWarning: Matplotlib is currently using module://ipykernel.pylab.backend_inline, which is a non-GUI backend, so cannot show the figure.\n",
      "  % get_backend())\n"
     ]
    },
    {
     "data": {
      "image/png": "[encoded data removed]",
      "text/plain": [
       "<Figure size 432x288 with 1 Axes>"
      ]
     },
     "metadata": {
      "needs_background": "light"
     },
     "output_type": "display_data"
    }
   ],
   "source": [
    "%matplotlib inline\n",
    "print(RBM.mav_acceptance_rates)\n",
    "plt.plot(results['h_gamma']); plt.show()\n",
    "plt.plot(results['h_gamma0']); plt.show()\n",
    "\n",
    "\n",
    "h = RBM.sample_hiddens(train_data)\n",
    "\n",
    "z0 = RBM.zlayer.sample_from_inputs(np.zeros([1000,1,5],dtype=np.float32),I0=None,beta=1)\n",
    "h2 = RBM.hlayer.sample_from_inputs(None,I0= RBM.zlayer.compute_output(z0,RBM.weights_MoI,direction='down'), beta=0)\n",
    "\n",
    "fig, ax = plt.subplots()\n",
    "plt.scatter(h[:,0],h[:,1],s=1)\n",
    "plt.scatter(h2[:,0],h2[:,1],s=1)\n",
    "fig.show()"
   ]
  },
  {
   "cell_type": "code",
   "execution_count": 17,
   "metadata": {},
   "outputs": [
    {
     "data": {
      "image/png": "[encoded data removed]",
      "text/plain": [
       "<Figure size 432x288 with 1 Axes>"
      ]
     },
     "metadata": {
      "needs_background": "light"
     },
     "output_type": "display_data"
    }
   ],
   "source": [
    "color = np.argmax(np.dot(train_data,MoI.cond_muv.T),axis=-1)\n",
    "for c in range(MoI.M):\n",
    "    plt.hist(RBM.free_energy(train_data[color==c]),bins=100);"
   ]
  },
  {
   "cell_type": "code",
   "execution_count": 21,
   "metadata": {},
   "outputs": [
    {
     "name": "stdout",
     "output_type": "stream",
     "text": [
      "Starting epoch 1\n",
      "Reloading mixture 1, 3.77e-03\n",
      "Starting epoch 2\n"
     ]
    },
    {
     "name": "stderr",
     "output_type": "stream",
     "text": [
      "../../rbm10/layer10.py:1038: RuntimeWarning: overflow encountered in true_divide\n",
      "  p_plus = 1/(1+ (etg_minus/np.sqrt(self._gamma_minus))/(etg_plus/np.sqrt(self._gamma_plus)) )\n",
      "../../rbm10/layer10.py:1072: RuntimeWarning: overflow encountered in true_divide\n",
      "  p_plus = 1/(1+ (etg_minus/np.sqrt(self._gamma_minus))/(etg_plus/np.sqrt(self._gamma_plus)) )\n"
     ]
    },
    {
     "name": "stdout",
     "output_type": "stream",
     "text": [
      "Reloading mixture 4, 3.66e-03\n",
      "Starting epoch 3\n",
      "Reloading mixture 3, 3.98e-03\n",
      "Starting epoch 4\n",
      "Starting epoch 5\n",
      "Reloading mixture 3, 3.73e-03\n",
      "Reloading mixture 1, 3.48e-03\n",
      "Starting epoch 6\n",
      "Starting epoch 7\n",
      "Reloading mixture 4, 3.66e-03\n",
      "Reloading mixture 1, 3.40e-03\n",
      "Starting epoch 8\n",
      "Starting epoch 9\n",
      "Reloading mixture 0, 3.90e-03\n",
      "Reloading mixture 1, 3.96e-03\n",
      "Starting epoch 10\n",
      "Starting epoch 11\n",
      "Reloading mixture 1, 3.98e-03\n",
      "Reloading mixture 2, 3.77e-03\n",
      "Starting epoch 12\n",
      "Reloading mixture 2, 3.69e-03\n",
      "Reloading mixture 0, 3.72e-03\n",
      "Starting epoch 13\n",
      "Reloading mixture 1, 3.82e-03\n",
      "Reloading mixture 0, 3.78e-03\n",
      "Starting epoch 14\n",
      "Starting epoch 15\n",
      "Starting epoch 16\n",
      "Starting epoch 17\n",
      "Starting epoch 18\n",
      "Starting epoch 19\n",
      "Reloading mixture 0, 3.87e-03\n",
      "Reloading mixture 1, 3.57e-03\n",
      "Starting epoch 20\n",
      "Reloading mixture 1, 3.91e-03\n",
      "Reloading mixture 3, 3.84e-03\n",
      "Starting epoch 21\n",
      "Reloading mixture 3, 3.87e-03\n",
      "Reloading mixture 0, 3.59e-03\n",
      "Starting epoch 22\n",
      "Reloading mixture 0, 3.94e-03\n",
      "Reloading mixture 2, 3.71e-03\n",
      "Starting epoch 23\n",
      "Starting epoch 24\n",
      "Starting epoch 25\n",
      "Starting epoch 26\n",
      "Starting epoch 27\n",
      "Starting epoch 28\n",
      "Starting epoch 29\n",
      "Starting epoch 30\n",
      "Starting epoch 31\n",
      "Starting epoch 32\n",
      "Starting epoch 33\n",
      "Starting epoch 34\n",
      "Starting epoch 35\n",
      "Starting epoch 36\n",
      "Starting epoch 37\n",
      "Starting epoch 38\n",
      "Starting epoch 39\n",
      "Starting epoch 40\n",
      "Starting epoch 41\n",
      "Starting epoch 42\n",
      "Starting epoch 43\n",
      "Starting epoch 44\n",
      "Starting epoch 45\n",
      "Starting epoch 46\n",
      "Starting epoch 47\n",
      "Starting epoch 48\n",
      "Starting epoch 49\n",
      "Starting epoch 50\n",
      "Starting epoch 51\n",
      "Starting epoch 52\n",
      "Starting epoch 53\n",
      "Starting epoch 54\n",
      "Starting epoch 55\n",
      "Starting epoch 56\n",
      "Starting epoch 57\n",
      "Starting epoch 58\n",
      "Starting epoch 59\n",
      "Starting epoch 60\n",
      "Starting epoch 61\n",
      "Starting epoch 62\n",
      "Starting epoch 63\n",
      "Starting epoch 64\n",
      "Starting epoch 65\n",
      "Starting epoch 66\n",
      "Starting epoch 67\n",
      "Starting epoch 68\n",
      "Starting epoch 69\n",
      "Starting epoch 70\n",
      "Starting epoch 71\n",
      "Starting epoch 72\n",
      "Starting epoch 73\n",
      "Starting epoch 74\n",
      "Starting epoch 75\n",
      "Starting epoch 76\n",
      "Starting epoch 77\n",
      "Starting epoch 78\n",
      "Starting epoch 79\n",
      "Starting epoch 80\n",
      "Starting epoch 81\n",
      "Starting epoch 82\n",
      "Starting epoch 83\n",
      "Starting epoch 84\n",
      "Starting epoch 85\n",
      "Starting epoch 86\n",
      "Starting epoch 87\n",
      "Starting epoch 88\n",
      "Starting epoch 89\n",
      "Starting epoch 90\n",
      "Starting epoch 91\n",
      "Starting epoch 92\n",
      "Starting epoch 93\n",
      "Starting epoch 94\n",
      "Starting epoch 95\n",
      "Starting epoch 96\n",
      "Starting epoch 97\n",
      "Starting epoch 98\n",
      "Starting epoch 99\n",
      "Starting epoch 100\n",
      "Starting epoch 101\n",
      "Starting epoch 102\n",
      "Starting epoch 103\n",
      "Starting epoch 104\n",
      "Starting epoch 105\n",
      "Starting epoch 106\n",
      "Starting epoch 107\n",
      "Starting epoch 108\n",
      "Starting epoch 109\n",
      "Starting epoch 110\n",
      "Starting epoch 111\n",
      "Starting epoch 112\n",
      "Starting epoch 113\n",
      "Starting epoch 114\n",
      "Starting epoch 115\n",
      "Starting epoch 116\n",
      "Starting epoch 117\n",
      "Starting epoch 118\n",
      "Starting epoch 119\n",
      "Starting epoch 120\n",
      "Starting epoch 121\n",
      "Starting epoch 122\n",
      "Starting epoch 123\n",
      "Starting epoch 124\n",
      "Starting epoch 125\n",
      "Starting epoch 126\n",
      "Starting epoch 127\n",
      "Starting epoch 128\n",
      "Starting epoch 129\n",
      "Starting epoch 130\n",
      "Starting epoch 131\n",
      "Starting epoch 132\n",
      "Starting epoch 133\n",
      "Starting epoch 134\n",
      "Starting epoch 135\n",
      "Starting epoch 136\n",
      "Starting epoch 137\n",
      "Starting epoch 138\n",
      "Starting epoch 139\n",
      "Starting epoch 140\n",
      "Starting epoch 141\n",
      "Starting epoch 142\n",
      "Starting epoch 143\n",
      "Starting epoch 144\n",
      "Starting epoch 145\n",
      "Starting epoch 146\n",
      "Starting epoch 147\n",
      "Starting epoch 148\n",
      "Starting epoch 149\n",
      "Starting epoch 150\n",
      "Starting epoch 151\n",
      "Starting epoch 152\n",
      "Starting epoch 153\n",
      "Starting epoch 154\n",
      "Starting epoch 155\n",
      "Starting epoch 156\n",
      "Starting epoch 157\n",
      "Starting epoch 158\n",
      "Starting epoch 159\n",
      "Starting epoch 160\n",
      "Starting epoch 161\n",
      "Starting epoch 162\n",
      "Starting epoch 163\n",
      "Starting epoch 164\n",
      "Starting epoch 165\n",
      "Starting epoch 166\n",
      "Starting epoch 167\n",
      "Starting epoch 168\n",
      "Starting epoch 169\n",
      "Starting epoch 170\n",
      "Starting epoch 171\n",
      "Starting epoch 172\n",
      "Starting epoch 173\n",
      "Starting epoch 174\n",
      "Starting epoch 175\n",
      "Starting epoch 176\n",
      "Starting epoch 177\n",
      "Starting epoch 178\n",
      "Starting epoch 179\n",
      "Starting epoch 180\n",
      "Starting epoch 181\n",
      "Starting epoch 182\n",
      "Starting epoch 183\n",
      "Starting epoch 184\n",
      "Starting epoch 185\n",
      "Starting epoch 186\n",
      "Starting epoch 187\n",
      "Starting epoch 188\n",
      "Starting epoch 189\n",
      "Starting epoch 190\n",
      "Starting epoch 191\n",
      "Starting epoch 192\n",
      "Starting epoch 193\n",
      "Starting epoch 194\n",
      "Starting epoch 195\n",
      "Starting epoch 196\n",
      "Starting epoch 197\n",
      "Starting epoch 198\n",
      "Starting epoch 199\n",
      "Starting epoch 200\n"
     ]
    }
   ],
   "source": [
    "import rbm10\n",
    "importlib.reload(rbm10)\n",
    "RBM = rbm10.RBM(n_v=500,n_h=2,visible='Spin',hidden='dReLU')\n",
    "results = RBM.fit(train_data,MoI_h=5,adapt_PT=False,N_PT=2, n_iter=200,verbose=0,vverbose=1,record=['h_gamma','h_gamma_plus0','h_gamma_minus0','weights_MoI'],record_interval=10)"
   ]
  },
  {
   "cell_type": "code",
   "execution_count": 22,
   "metadata": {},
   "outputs": [
    {
     "name": "stdout",
     "output_type": "stream",
     "text": [
      "[0.38044566]\n"
     ]
    },
    {
     "data": {
      "image/png": "[encoded data removed]",
      "text/plain": [
       "<Figure size 432x288 with 1 Axes>"
      ]
     },
     "metadata": {
      "needs_background": "light"
     },
     "output_type": "display_data"
    },
    {
     "data": {
      "image/png": "[encoded data removed]",
      "text/plain": [
       "<Figure size 432x288 with 1 Axes>"
      ]
     },
     "metadata": {
      "needs_background": "light"
     },
     "output_type": "display_data"
    },
    {
     "data": {
      "image/png": "[encoded data removed]",
      "text/plain": [
       "<Figure size 432x288 with 1 Axes>"
      ]
     },
     "metadata": {
      "needs_background": "light"
     },
     "output_type": "display_data"
    },
    {
     "name": "stderr",
     "output_type": "stream",
     "text": [
      "/Users/jerometubiana/anaconda/envs/python3/lib/python3.7/site-packages/matplotlib/figure.py:445: UserWarning: Matplotlib is currently using module://ipykernel.pylab.backend_inline, which is a non-GUI backend, so cannot show the figure.\n",
      "  % get_backend())\n"
     ]
    },
    {
     "data": {
      "image/png": "[encoded data removed]",
      "text/plain": [
       "<Figure size 432x288 with 1 Axes>"
      ]
     },
     "metadata": {
      "needs_background": "light"
     },
     "output_type": "display_data"
    }
   ],
   "source": [
    "%matplotlib inline\n",
    "print(RBM.mav_acceptance_rates)\n",
    "plt.plot(results['h_gamma']); plt.show()\n",
    "plt.plot(results['h_gamma_plus0']); plt.show()\n",
    "plt.plot(results['h_gamma_minus0']); plt.show()\n",
    "\n",
    "\n",
    "h = RBM.sample_hiddens(train_data)\n",
    "\n",
    "z0 = RBM.zlayer.sample_from_inputs(np.zeros([1000,1,5],dtype=np.float32),I0=None,beta=1)\n",
    "h2 = RBM.hlayer.sample_from_inputs(None,I0= RBM.zlayer.compute_output(z0,RBM.weights_MoI,direction='down'), beta=0)\n",
    "\n",
    "fig, ax = plt.subplots()\n",
    "plt.scatter(h[:,0],h[:,1],s=1)\n",
    "plt.scatter(h2[:,0],h2[:,1],s=1)\n",
    "fig.show()"
   ]
  },
  {
   "cell_type": "code",
   "execution_count": 23,
   "metadata": {},
   "outputs": [
    {
     "data": {
      "image/png": "[encoded data removed]",
      "text/plain": [
       "<Figure size 432x288 with 1 Axes>"
      ]
     },
     "metadata": {
      "needs_background": "light"
     },
     "output_type": "display_data"
    }
   ],
   "source": [
    "color = np.argmax(np.dot(train_data,MoI.cond_muv.T),axis=-1)\n",
    "for c in range(MoI.M):\n",
    "    plt.hist(RBM.free_energy(train_data[color==c]),bins=100);"
   ]
  },
  {
   "cell_type": "code",
   "execution_count": 10,
   "metadata": {},
   "outputs": [
    {
     "name": "stdout",
     "output_type": "stream",
     "text": [
      "Starting epoch 1\n",
      "Starting epoch 2\n",
      "Starting epoch 3\n",
      "Starting epoch 4\n",
      "Starting epoch 5\n",
      "Starting epoch 6\n",
      "Starting epoch 7\n",
      "Starting epoch 8\n",
      "Starting epoch 9\n",
      "Starting epoch 10\n",
      "Starting epoch 11\n",
      "Starting epoch 12\n",
      "Starting epoch 13\n",
      "Starting epoch 14\n",
      "Starting epoch 15\n",
      "Starting epoch 16\n",
      "Starting epoch 17\n",
      "Starting epoch 18\n",
      "Starting epoch 19\n",
      "Starting epoch 20\n",
      "Starting epoch 21\n",
      "Starting epoch 22\n",
      "Starting epoch 23\n",
      "Starting epoch 24\n",
      "Starting epoch 25\n",
      "Starting epoch 26\n",
      "Starting epoch 27\n",
      "Starting epoch 28\n",
      "Starting epoch 29\n",
      "Starting epoch 30\n",
      "Starting epoch 31\n",
      "Starting epoch 32\n",
      "Starting epoch 33\n",
      "Starting epoch 34\n",
      "Starting epoch 35\n",
      "Starting epoch 36\n",
      "Starting epoch 37\n",
      "Starting epoch 38\n",
      "Starting epoch 39\n",
      "Starting epoch 40\n",
      "Starting epoch 41\n",
      "Starting epoch 42\n",
      "Starting epoch 43\n",
      "Starting epoch 44\n",
      "Starting epoch 45\n",
      "Starting epoch 46\n",
      "Starting epoch 47\n",
      "Starting epoch 48\n",
      "Starting epoch 49\n",
      "Starting epoch 50\n",
      "Iteration number 0, pseudo-likelihood: -0.11\n",
      "Starting epoch 1\n",
      "Mismatch dimensions (100, 500), [2, 100, 500], reinitializating I\n",
      "Mismatch dimensions (100, 5), [2, 100, 5], reinitializating I\n",
      "NAN in hlayer fields0 (after recompute parameters). Breaking\n"
     ]
    },
    {
     "data": {
      "text/plain": [
       "{}"
      ]
     },
     "execution_count": 10,
     "metadata": {},
     "output_type": "execute_result"
    }
   ],
   "source": [
    "import copy\n",
    "RBM = rbm10.RBM(n_v=500,n_h=5,visible='Spin',hidden='Spin')\n",
    "RBM._only_sampling = False\n",
    "RBM.fit(train_data, n_iter=50,verbose=0,vverbose=1)\n",
    "RBM_ = copy.deepcopy(RBM)\n",
    "RBM_._only_sampling = True\n",
    "RBM_.fit(train_data,MoI_h=10,n_iter=50,init='previous',batch_norm=False)"
   ]
  },
  {
   "cell_type": "code",
   "execution_count": 11,
   "metadata": {},
   "outputs": [
    {
     "name": "stdout",
     "output_type": "stream",
     "text": [
      "hi\n",
      "Iteration number 0, pseudo-likelihood: -0.46\n",
      "Starting epoch 1\n",
      "[RBM] Iteration 1, time = 0.52s, pseudo-likelihood = -0.22, AR = 0.780\n",
      "Starting epoch 2\n",
      "[RBM] Iteration 2, time = 0.58s, pseudo-likelihood = -0.13, AR = 0.812\n",
      "Starting epoch 3\n",
      "[RBM] Iteration 3, time = 0.42s, pseudo-likelihood = -0.09, AR = 0.867\n",
      "Starting epoch 4\n",
      "[RBM] Iteration 4, time = 0.62s, pseudo-likelihood = -0.07, AR = 0.892\n",
      "Starting epoch 5\n",
      "[RBM] Iteration 5, time = 0.43s, pseudo-likelihood = -0.06, AR = 0.902\n",
      "Starting epoch 6\n",
      "[RBM] Iteration 6, time = 0.52s, pseudo-likelihood = -0.06, AR = 0.909\n",
      "Starting epoch 7\n",
      "[RBM] Iteration 7, time = 0.56s, pseudo-likelihood = -0.06, AR = 0.946\n",
      "Starting epoch 8\n",
      "[RBM] Iteration 8, time = 0.40s, pseudo-likelihood = -0.06, AR = 0.946\n",
      "Starting epoch 9\n",
      "[RBM] Iteration 9, time = 0.46s, pseudo-likelihood = -0.06, AR = 0.963\n",
      "Starting epoch 10\n",
      "[RBM] Iteration 10, time = 0.42s, pseudo-likelihood = -0.06, AR = 0.958\n",
      "Mismatch dimensions (2, 100, 10), [2, 10, 10], reinitializating I\n",
      "Mismatch dimensions (2, 100, 1, 5), [2, 10, 1, 5], reinitializating I\n",
      "Mismatch dimensions (2, 100, 5), [2, 10, 5], reinitializating I\n",
      "Mismatch dimensions (2, 100, 5), [2, 10, 5], reinitializating I\n"
     ]
    }
   ],
   "source": [
    "dataset_utils.load_mixture_model(globals(),path = '../data/',N=10,M=5,n_c=1,nature='Spin')\n",
    "print('hi')\n",
    "RBM = rbm10.RBM(n_v=10,n_h=5,visible='Spin',hidden='Spin',interpolate=False)\n",
    "RBM.fit(train_data,MoI_h=5,adapt_PT=True)\n",
    "\n",
    "datav,datah, dataz = RBM.gen_data(MoI_h=RBM.from_MoI_h,\n",
    "                                  MoI=RBM.from_MoI,\n",
    "                                  N_PT = len(RBM.betas))\n"
   ]
  },
  {
   "cell_type": "code",
   "execution_count": 7,
   "metadata": {},
   "outputs": [],
   "source": [
    "RBM.from_MoI_h = bool(True)"
   ]
  }
 ],
 "metadata": {
  "kernelspec": {
   "display_name": "Python 3 (conda)",
   "language": "python",
   "name": "python3"
  },
  "language_info": {
   "codemirror_mode": {
    "name": "ipython",
    "version": 3
   },
   "file_extension": ".py",
   "mimetype": "text/x-python",
   "name": "python",
   "nbconvert_exporter": "python",
   "pygments_lexer": "ipython3",
   "version": "3.7.2"
  }
 },
 "nbformat": 4,
 "nbformat_minor": 2
}

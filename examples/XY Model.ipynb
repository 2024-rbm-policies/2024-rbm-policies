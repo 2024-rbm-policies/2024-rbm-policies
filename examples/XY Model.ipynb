{
 "cells": [
  {
   "cell_type": "code",
   "execution_count": 1,
   "metadata": {},
   "outputs": [
    {
     "name": "stderr",
     "output_type": "stream",
     "text": [
      "/Users/jerometubiana/Documents/GitHub/PGM3/source/numba_utilities.py:14: NumbaWarning: Cannot cache compiled function \"dot_Potts_C\" as it uses dynamic globals (such as ctypes pointers and large global arrays)\n",
      "  @njit(signature, parallel=True, cache=True, nogil=False)\n",
      "/Users/jerometubiana/Documents/GitHub/PGM3/source/numba_utilities.py:32: NumbaWarning: Cannot cache compiled function \"dot_Potts2_C\" as it uses dynamic globals (such as ctypes pointers and large global arrays)\n",
      "  @njit(signature, parallel=True, cache=True, nogil=False)\n",
      "/Users/jerometubiana/Documents/GitHub/PGM3/source/numba_utilities.py:50: NumbaWarning: Cannot cache compiled function \"dot_Potts3_C\" as it uses dynamic globals (such as ctypes pointers and large global arrays)\n",
      "  @njit(signature, parallel=True, cache=True, nogil=False)\n",
      "/Users/jerometubiana/Documents/GitHub/PGM3/source/numba_utilities.py:91: NumbaWarning: Cannot cache compiled function \"compute_output_C\" as it uses dynamic globals (such as ctypes pointers and large global arrays)\n",
      "  @njit(signature, parallel=True, cache=True, nogil=False)\n",
      "/Users/jerometubiana/Documents/GitHub/PGM3/source/numba_utilities.py:113: NumbaWarning: Cannot cache compiled function \"compute_output_C2\" as it uses dynamic globals (such as ctypes pointers and large global arrays)\n",
      "  @njit(signature, parallel=True, cache=True, nogil=False)\n",
      "/Users/jerometubiana/Documents/GitHub/PGM3/source/numba_utilities.py:135: NumbaWarning: Cannot cache compiled function \"compute_output_Potts_C\" as it uses dynamic globals (such as ctypes pointers and large global arrays)\n",
      "  @njit(signature, parallel=True, cache=True, nogil=False)\n",
      "/Users/jerometubiana/Documents/GitHub/PGM3/source/numba_utilities.py:160: NumbaWarning: Cannot cache compiled function \"compute_output_Potts_C2\" as it uses dynamic globals (such as ctypes pointers and large global arrays)\n",
      "  @njit(signature, parallel=True, cache=True, nogil=False)\n",
      "/Users/jerometubiana/Documents/GitHub/PGM3/source/numba_utilities.py:220: NumbaWarning: Cannot cache compiled function \"average_product_FxP_C\" as it uses dynamic globals (such as ctypes pointers and large global arrays)\n",
      "  @njit(signature, parallel=True, cache=True, nogil=False)\n",
      "/Users/jerometubiana/Documents/GitHub/PGM3/source/numba_utilities.py:240: NumbaWarning: Cannot cache compiled function \"average_product_PxP_C\" as it uses dynamic globals (such as ctypes pointers and large global arrays)\n",
      "  @njit(signature, parallel=True, cache=True, nogil=False)\n",
      "/Users/jerometubiana/Documents/GitHub/PGM3/source/numba_utilities.py:260: NumbaWarning: Cannot cache compiled function \"weighted_average_product_PxP_C\" as it uses dynamic globals (such as ctypes pointers and large global arrays)\n",
      "  @njit(signature, parallel=True, cache=True, nogil=False)\n",
      "/Users/jerometubiana/Documents/GitHub/PGM3/source/numba_utilities.py:280: NumbaWarning: Cannot cache compiled function \"weighted_average_product_FxP_C\" as it uses dynamic globals (such as ctypes pointers and large global arrays)\n",
      "  @njit(signature, parallel=True, cache=True, nogil=False)\n",
      "/Users/jerometubiana/anaconda/envs/python3/lib/python3.6/site-packages/numba/compiler.py:588: NumbaPerformanceWarning: \n",
      "The keyword argument 'parallel=True' was specified but no transformation for parallel execution was possible.\n",
      "\n",
      "To find out why, try turning on parallel diagnostics, see http://numba.pydata.org/numba-doc/latest/user/parallel.html#diagnostics for help.\n",
      "\n",
      "File \"../Documents/GitHub/PGM3/source/numba_utilities.py\", line 438:\n",
      "@njit(signature0, parallel=True)\n",
      "def erf_times_gauss_numba0(x):\n",
      "^\n",
      "\n",
      "  self.func_ir.loc))\n",
      "/Users/jerometubiana/Documents/GitHub/PGM3/source/numba_utilities.py:1109: NumbaPerformanceWarning: np.dot() is faster on contiguous arrays, called on (array(float32, 2d, F), array(float32, 2d, A))\n",
      "  dmean_v_dw = np.dot(s1.T, V)\n",
      "/Users/jerometubiana/Documents/GitHub/PGM3/source/numba_utilities.py:1110: NumbaPerformanceWarning: np.dot() is faster on contiguous arrays, called on (array(float32, 2d, F), array(float32, 2d, A))\n",
      "  dvar_e_dw = np.dot(s2.T, V)\n",
      "/Users/jerometubiana/Documents/GitHub/PGM3/source/numba_utilities.py:1111: NumbaPerformanceWarning: np.dot() is faster on contiguous arrays, called on (array(float32, 2d, F), array(float32, 2d, A))\n",
      "  tmp3 = np.dot(s3.T, V)\n",
      "/Users/jerometubiana/Documents/GitHub/PGM3/source/numba_utilities.py:946: NumbaPerformanceWarning: np.dot() is faster on contiguous arrays, called on (array(float32, 1d, A), array(float32, 2d, A))\n",
      "  mean_V = np.dot(weights, V) / sum_weights\n"
     ]
    }
   ],
   "source": [
    "import numpy as np\n",
    "import sys\n",
    "sys.path.append('/Users/jerometubiana/Documents/GitHub/PGM3/source/')\n",
    "sys.path.append('/Users/jerometubiana/Documents/GitHub/PGM3/utilities/')\n",
    "import bm\n",
    "import utilities\n",
    "from scipy.linalg import eigh\n",
    "import matplotlib.pyplot as plt"
   ]
  },
  {
   "cell_type": "markdown",
   "metadata": {},
   "source": [
    "# Generate data from a discrete XY model\n",
    "- We use discrete angles $\\frac{2\\pi c}{n_c}$, $c \\in [0, n_c-1]$.\n",
    "- Energy function takes form E = - $\\sum_i \\cos (\\theta_i - \\theta_{i+1})$\n",
    "- Data is generated with a Potts model.\n",
    "- Show descriptive statistics: Top eigenvector, correlation matrix.\n"
   ]
  },
  {
   "cell_type": "code",
   "execution_count": 32,
   "metadata": {},
   "outputs": [
    {
     "ename": "KeyboardInterrupt",
     "evalue": "",
     "output_type": "error",
     "traceback": [
      "\u001b[0;31m---------------------------------------------------------------------------\u001b[0m",
      "\u001b[0;31mKeyboardInterrupt\u001b[0m                         Traceback (most recent call last)",
      "\u001b[0;32m<ipython-input-32-9b7d95ca35cc>\u001b[0m in \u001b[0;36m<module>\u001b[0;34m\u001b[0m\n\u001b[1;32m     16\u001b[0m \u001b[0;34m\u001b[0m\u001b[0m\n\u001b[1;32m     17\u001b[0m \u001b[0;34m\u001b[0m\u001b[0m\n\u001b[0;32m---> 18\u001b[0;31m \u001b[0mdata\u001b[0m \u001b[0;34m=\u001b[0m \u001b[0mBM\u001b[0m\u001b[0;34m.\u001b[0m\u001b[0mgen_data\u001b[0m\u001b[0;34m(\u001b[0m\u001b[0mNchains\u001b[0m\u001b[0;34m=\u001b[0m\u001b[0;36m100\u001b[0m\u001b[0;34m,\u001b[0m\u001b[0mLchains\u001b[0m\u001b[0;34m=\u001b[0m\u001b[0;36m10000\u001b[0m\u001b[0;34m,\u001b[0m\u001b[0mNthermalize\u001b[0m\u001b[0;34m=\u001b[0m\u001b[0;36m1000\u001b[0m\u001b[0;34m,\u001b[0m\u001b[0mNstep\u001b[0m\u001b[0;34m=\u001b[0m\u001b[0;36m300\u001b[0m\u001b[0;34m)\u001b[0m\u001b[0;34m\u001b[0m\u001b[0;34m\u001b[0m\u001b[0m\n\u001b[0m\u001b[1;32m     19\u001b[0m \u001b[0mC\u001b[0m \u001b[0;34m=\u001b[0m \u001b[0mutilities\u001b[0m\u001b[0;34m.\u001b[0m\u001b[0mcovariance\u001b[0m\u001b[0;34m(\u001b[0m\u001b[0mdata\u001b[0m\u001b[0;34m,\u001b[0m\u001b[0mdata\u001b[0m\u001b[0;34m,\u001b[0m\u001b[0mc1\u001b[0m\u001b[0;34m=\u001b[0m\u001b[0mn_c\u001b[0m\u001b[0;34m,\u001b[0m\u001b[0mc2\u001b[0m\u001b[0;34m=\u001b[0m\u001b[0mn_c\u001b[0m\u001b[0;34m)\u001b[0m\u001b[0;34m\u001b[0m\u001b[0;34m\u001b[0m\u001b[0m\n\u001b[1;32m     20\u001b[0m \u001b[0mdiag\u001b[0m \u001b[0;34m=\u001b[0m \u001b[0mC\u001b[0m\u001b[0;34m[\u001b[0m\u001b[0mnp\u001b[0m\u001b[0;34m.\u001b[0m\u001b[0marange\u001b[0m\u001b[0;34m(\u001b[0m\u001b[0mN\u001b[0m\u001b[0;34m)\u001b[0m\u001b[0;34m,\u001b[0m\u001b[0mnp\u001b[0m\u001b[0;34m.\u001b[0m\u001b[0marange\u001b[0m\u001b[0;34m(\u001b[0m\u001b[0mN\u001b[0m\u001b[0;34m)\u001b[0m\u001b[0;34m,\u001b[0m\u001b[0;34m:\u001b[0m\u001b[0;34m,\u001b[0m\u001b[0;34m:\u001b[0m\u001b[0;34m]\u001b[0m\u001b[0;34m[\u001b[0m\u001b[0;34m:\u001b[0m\u001b[0;34m,\u001b[0m\u001b[0mnp\u001b[0m\u001b[0;34m.\u001b[0m\u001b[0marange\u001b[0m\u001b[0;34m(\u001b[0m\u001b[0mn_c\u001b[0m\u001b[0;34m)\u001b[0m\u001b[0;34m,\u001b[0m\u001b[0mnp\u001b[0m\u001b[0;34m.\u001b[0m\u001b[0marange\u001b[0m\u001b[0;34m(\u001b[0m\u001b[0mn_c\u001b[0m\u001b[0;34m)\u001b[0m\u001b[0;34m]\u001b[0m\u001b[0;34m\u001b[0m\u001b[0;34m\u001b[0m\u001b[0m\n",
      "\u001b[0;32m~/Documents/GitHub/PGM3/source/bm.py\u001b[0m in \u001b[0;36mgen_data\u001b[0;34m(self, Nchains, Lchains, Nthermalize, Nstep, N_PT, config_init, beta, batches, reshape, record_replica, record_acceptance, update_betas, record_swaps)\u001b[0m\n\u001b[1;32m    167\u001b[0m \u001b[0;34m\u001b[0m\u001b[0m\n\u001b[1;32m    168\u001b[0m     \u001b[0;32mdef\u001b[0m \u001b[0mgen_data\u001b[0m\u001b[0;34m(\u001b[0m\u001b[0mself\u001b[0m\u001b[0;34m,\u001b[0m \u001b[0mNchains\u001b[0m\u001b[0;34m=\u001b[0m\u001b[0;36m10\u001b[0m\u001b[0;34m,\u001b[0m \u001b[0mLchains\u001b[0m\u001b[0;34m=\u001b[0m\u001b[0;36m100\u001b[0m\u001b[0;34m,\u001b[0m \u001b[0mNthermalize\u001b[0m\u001b[0;34m=\u001b[0m\u001b[0;36m0\u001b[0m\u001b[0;34m,\u001b[0m \u001b[0mNstep\u001b[0m\u001b[0;34m=\u001b[0m\u001b[0;36m1\u001b[0m\u001b[0;34m,\u001b[0m \u001b[0mN_PT\u001b[0m\u001b[0;34m=\u001b[0m\u001b[0;36m1\u001b[0m\u001b[0;34m,\u001b[0m \u001b[0mconfig_init\u001b[0m\u001b[0;34m=\u001b[0m\u001b[0;34m[\u001b[0m\u001b[0;34m]\u001b[0m\u001b[0;34m,\u001b[0m \u001b[0mbeta\u001b[0m\u001b[0;34m=\u001b[0m\u001b[0;36m1\u001b[0m\u001b[0;34m,\u001b[0m \u001b[0mbatches\u001b[0m\u001b[0;34m=\u001b[0m\u001b[0;32mNone\u001b[0m\u001b[0;34m,\u001b[0m \u001b[0mreshape\u001b[0m\u001b[0;34m=\u001b[0m\u001b[0;32mTrue\u001b[0m\u001b[0;34m,\u001b[0m \u001b[0mrecord_replica\u001b[0m\u001b[0;34m=\u001b[0m\u001b[0;32mFalse\u001b[0m\u001b[0;34m,\u001b[0m \u001b[0mrecord_acceptance\u001b[0m\u001b[0;34m=\u001b[0m\u001b[0;32mNone\u001b[0m\u001b[0;34m,\u001b[0m \u001b[0mupdate_betas\u001b[0m\u001b[0;34m=\u001b[0m\u001b[0;32mNone\u001b[0m\u001b[0;34m,\u001b[0m \u001b[0mrecord_swaps\u001b[0m\u001b[0;34m=\u001b[0m\u001b[0;32mFalse\u001b[0m\u001b[0;34m)\u001b[0m\u001b[0;34m:\u001b[0m\u001b[0;34m\u001b[0m\u001b[0;34m\u001b[0m\u001b[0m\n\u001b[0;32m--> 169\u001b[0;31m         \u001b[0;32mreturn\u001b[0m \u001b[0msuper\u001b[0m\u001b[0;34m(\u001b[0m\u001b[0mBM\u001b[0m\u001b[0;34m,\u001b[0m \u001b[0mself\u001b[0m\u001b[0;34m)\u001b[0m\u001b[0;34m.\u001b[0m\u001b[0mgen_data\u001b[0m\u001b[0;34m(\u001b[0m\u001b[0mNchains\u001b[0m\u001b[0;34m=\u001b[0m\u001b[0mNchains\u001b[0m\u001b[0;34m,\u001b[0m \u001b[0mLchains\u001b[0m\u001b[0;34m=\u001b[0m\u001b[0mLchains\u001b[0m\u001b[0;34m,\u001b[0m \u001b[0mNthermalize\u001b[0m\u001b[0;34m=\u001b[0m\u001b[0mNthermalize\u001b[0m\u001b[0;34m,\u001b[0m \u001b[0mNstep\u001b[0m\u001b[0;34m=\u001b[0m\u001b[0mNstep\u001b[0m\u001b[0;34m,\u001b[0m \u001b[0mN_PT\u001b[0m\u001b[0;34m=\u001b[0m\u001b[0mN_PT\u001b[0m\u001b[0;34m,\u001b[0m \u001b[0mconfig_init\u001b[0m\u001b[0;34m=\u001b[0m\u001b[0mconfig_init\u001b[0m\u001b[0;34m,\u001b[0m \u001b[0mbeta\u001b[0m\u001b[0;34m=\u001b[0m\u001b[0mbeta\u001b[0m\u001b[0;34m,\u001b[0m \u001b[0mbatches\u001b[0m\u001b[0;34m=\u001b[0m\u001b[0mbatches\u001b[0m\u001b[0;34m,\u001b[0m \u001b[0mreshape\u001b[0m\u001b[0;34m=\u001b[0m\u001b[0mreshape\u001b[0m\u001b[0;34m,\u001b[0m \u001b[0mrecord_replica\u001b[0m\u001b[0;34m=\u001b[0m\u001b[0mrecord_replica\u001b[0m\u001b[0;34m,\u001b[0m \u001b[0mrecord_acceptance\u001b[0m\u001b[0;34m=\u001b[0m\u001b[0mrecord_acceptance\u001b[0m\u001b[0;34m,\u001b[0m \u001b[0mupdate_betas\u001b[0m\u001b[0;34m=\u001b[0m\u001b[0mupdate_betas\u001b[0m\u001b[0;34m,\u001b[0m \u001b[0mrecord_swaps\u001b[0m\u001b[0;34m=\u001b[0m\u001b[0mrecord_swaps\u001b[0m\u001b[0;34m)\u001b[0m\u001b[0;34m\u001b[0m\u001b[0;34m\u001b[0m\u001b[0m\n\u001b[0m\u001b[1;32m    170\u001b[0m \u001b[0;34m\u001b[0m\u001b[0m\n\u001b[1;32m    171\u001b[0m     def fit(self, data, batch_size=100, nchains=100, learning_rate=None, extra_params=None, init='independent', optimizer='SGD', N_PT=1, N_MC=1, n_iter=10,\n",
      "\u001b[0;32m~/Documents/GitHub/PGM3/source/pgm.py\u001b[0m in \u001b[0;36mgen_data\u001b[0;34m(self, Nchains, Lchains, Nthermalize, Nstep, N_PT, config_init, beta, batches, reshape, record_replica, record_acceptance, update_betas, update_betas_lr, update_betas_lr_decay, record_swaps, MoI, MoI_h, PTv, PTh, reset_MoI)\u001b[0m\n\u001b[1;32m    230\u001b[0m             \u001b[0;32mif\u001b[0m \u001b[0mconfig_init\u001b[0m \u001b[0;34m==\u001b[0m \u001b[0;34m[\u001b[0m\u001b[0;34m]\u001b[0m\u001b[0;34m:\u001b[0m\u001b[0;34m\u001b[0m\u001b[0;34m\u001b[0m\u001b[0m\n\u001b[1;32m    231\u001b[0m                 config = self._gen_data(Nthermalize, Ndata, Nstep, N_PT=N_PT, batches=batches, reshape=False,\n\u001b[0;32m--> 232\u001b[0;31m                                         beta=beta, record_replica=record_replica, update_betas=update_betas, record_swaps=record_swaps)\n\u001b[0m\u001b[1;32m    233\u001b[0m             \u001b[0;32melse\u001b[0m\u001b[0;34m:\u001b[0m\u001b[0;34m\u001b[0m\u001b[0;34m\u001b[0m\u001b[0m\n\u001b[1;32m    234\u001b[0m                 config = self._gen_data(Nthermalize, Ndata, Nstep, N_PT=N_PT, batches=batches, reshape=False, beta=beta, record_replica=record_replica, config_init=[\n",
      "\u001b[0;32m~/Documents/GitHub/PGM3/source/pgm.py\u001b[0m in \u001b[0;36m_gen_data\u001b[0;34m(self, Nthermalize, Ndata, Nstep, N_PT, batches, reshape, config_init, beta, record_replica, update_betas, record_swaps)\u001b[0m\n\u001b[1;32m    368\u001b[0m                         \u001b[0mself\u001b[0m\u001b[0;34m.\u001b[0m\u001b[0mupdate_betas_lr\u001b[0m \u001b[0;34m*=\u001b[0m \u001b[0mself\u001b[0m\u001b[0;34m.\u001b[0m\u001b[0mupdate_betas_lr_decay\u001b[0m\u001b[0;34m\u001b[0m\u001b[0;34m\u001b[0m\u001b[0m\n\u001b[1;32m    369\u001b[0m                 \u001b[0;32melse\u001b[0m\u001b[0;34m:\u001b[0m\u001b[0;34m\u001b[0m\u001b[0;34m\u001b[0m\u001b[0m\n\u001b[0;32m--> 370\u001b[0;31m                     \u001b[0mconfig\u001b[0m \u001b[0;34m=\u001b[0m \u001b[0mself\u001b[0m\u001b[0;34m.\u001b[0m\u001b[0mmarkov_step\u001b[0m\u001b[0;34m(\u001b[0m\u001b[0mconfig\u001b[0m\u001b[0;34m,\u001b[0m \u001b[0mbeta\u001b[0m\u001b[0;34m=\u001b[0m\u001b[0mbeta\u001b[0m\u001b[0;34m)\u001b[0m\u001b[0;34m\u001b[0m\u001b[0;34m\u001b[0m\u001b[0m\n\u001b[0m\u001b[1;32m    371\u001b[0m             \u001b[0;32mif\u001b[0m \u001b[0mself\u001b[0m\u001b[0;34m.\u001b[0m\u001b[0mn_layers\u001b[0m \u001b[0;34m==\u001b[0m \u001b[0;36m1\u001b[0m\u001b[0;34m:\u001b[0m\u001b[0;34m\u001b[0m\u001b[0;34m\u001b[0m\u001b[0m\n\u001b[1;32m    372\u001b[0m                 data.append(utilities.copy_config(\n",
      "\u001b[0;32m~/Documents/GitHub/PGM3/source/bm.py\u001b[0m in \u001b[0;36mmarkov_step\u001b[0;34m(self, config, beta)\u001b[0m\n\u001b[1;32m    106\u001b[0m         \u001b[0mx\u001b[0m\u001b[0;34m,\u001b[0m \u001b[0mfields_eff\u001b[0m \u001b[0;34m=\u001b[0m \u001b[0mconfig\u001b[0m\u001b[0;34m\u001b[0m\u001b[0;34m\u001b[0m\u001b[0m\n\u001b[1;32m    107\u001b[0m         (x, fields_eff) = self.layer.sample_from_inputs(\n\u001b[0;32m--> 108\u001b[0;31m             None, previous=(x, fields_eff), beta=beta)\n\u001b[0m\u001b[1;32m    109\u001b[0m         \u001b[0;32mreturn\u001b[0m \u001b[0;34m(\u001b[0m\u001b[0mx\u001b[0m\u001b[0;34m,\u001b[0m \u001b[0mfields_eff\u001b[0m\u001b[0;34m)\u001b[0m\u001b[0;34m\u001b[0m\u001b[0;34m\u001b[0m\u001b[0m\n\u001b[1;32m    110\u001b[0m \u001b[0;34m\u001b[0m\u001b[0m\n",
      "\u001b[0;32m~/Documents/GitHub/PGM3/source/layer.py\u001b[0m in \u001b[0;36msample_from_inputs\u001b[0;34m(self, I, I0, beta, previous, **kwargs)\u001b[0m\n\u001b[1;32m   1611\u001b[0m         \u001b[0;32melse\u001b[0m\u001b[0;34m:\u001b[0m\u001b[0;34m\u001b[0m\u001b[0;34m\u001b[0m\u001b[0m\n\u001b[1;32m   1612\u001b[0m             x, fields_eff = cy_utilities.Potts_Gibbs_free_C(\n\u001b[0;32m-> 1613\u001b[0;31m                 x, fields_eff, B, self.N, self.n_c, self.fields0, self.couplings, beta)\n\u001b[0m\u001b[1;32m   1614\u001b[0m         \u001b[0;32mreturn\u001b[0m \u001b[0;34m(\u001b[0m\u001b[0mx\u001b[0m\u001b[0;34m,\u001b[0m \u001b[0mfields_eff\u001b[0m\u001b[0;34m)\u001b[0m\u001b[0;34m\u001b[0m\u001b[0;34m\u001b[0m\u001b[0m\n\u001b[1;32m   1615\u001b[0m \u001b[0;34m\u001b[0m\u001b[0m\n",
      "\u001b[0;31mKeyboardInterrupt\u001b[0m: "
     ]
    }
   ],
   "source": [
    "N = 100\n",
    "beta = 1.5\n",
    "n_c = 10\n",
    "thetas = 2*np.pi/n_c * np.arange(n_c)\n",
    "costhetas = np.cos(thetas[np.newaxis]-thetas[:,np.newaxis])\n",
    "\n",
    "BM = bm.BM(N=N,n_c=n_c,nature='Potts')\n",
    "J = np.zeros([N,N,n_c,n_c])\n",
    "for n in range(N-1):\n",
    "    J[n,n+1,:,:] = beta * costhetas\n",
    "    J[n+1,n,:,:] = beta * costhetas.T\n",
    "J[N-1,0,:,:] = beta * costhetas\n",
    "J[0,N-1,:,:] = beta * costhetas.T\n",
    "\n",
    "BM.layer.couplings = J.astype(np.float32)\n",
    "\n",
    "\n",
    "data = BM.gen_data(Nchains=100,Lchains=10000,Nthermalize=1000,Nstep=300)\n",
    "C = utilities.covariance(data,data,c1=n_c,c2=n_c)\n",
    "diag = C[np.arange(N),np.arange(N),:,:][:,np.arange(n_c),np.arange(n_c)]\n",
    "C/= np.sqrt(diag[:,np.newaxis,:,np.newaxis] * diag[np.newaxis,:,np.newaxis,:])\n",
    "\n",
    "C2D = np.swapaxes(C,1,2).reshape([n_c*N,n_c*N]) # Does the same thing as the commented code below.\n",
    "\n",
    "# C2D = np.zeros([N*n_c,N*n_c])\n",
    "# for i1 in range(N):\n",
    "#     for i2 in range(N):\n",
    "#         for c1 in range(n_c):\n",
    "#             for c2 in range(n_c):\n",
    "#                 C2D[i1*n_c+c1,i2*n_c+c2] = C[i1,i2,c1,c2]\n",
    " \n",
    "\n",
    "lam,V = eigh(C2D);\n",
    "idx = np.argmax(lam)\n",
    "\n",
    "top_eigenvector = V[:,idx].reshape([N,n_c]);\n",
    "plt.imshow(top_eigenvector,aspect='auto'); plt.colorbar();\n",
    "plt.xlabel('Color');\n",
    "plt.ylabel('Space');\n",
    "plt.title('Top eigenvector, N =%s, S = %s, beta=%s'%(N,data.shape[0],beta));\n",
    "plt.savefig('XY_Top_eigenvector_N%s_S%s_beta%s.png'%(N,data.shape[0],beta));\n",
    "plt.show()\n",
    "\n",
    "\n",
    "neighbor_C = np.zeros([n_c,n_c])\n",
    "for n in range(N):\n",
    "    if n == N-1:\n",
    "        i = n\n",
    "        j = 0\n",
    "    else:\n",
    "        i = n\n",
    "        j = n+1\n",
    "    neighbor_C += C[i,j]\n",
    "neighbor_C /= N\n",
    "plt.imshow(neighbor_C)\n",
    "plt.colorbar()\n",
    "plt.title('Average Covariance between vectors S_i,S_+1')\n",
    "plt.savefig('XY_neighbor_covariance_N%s_S%s_beta%s.png'%(N,data.shape[0],beta));\n",
    "plt.show()\n",
    "\n",
    "\n",
    "correlation = np.abs(C).sum(-1).sum(-1)\n",
    "plt.imshow(correlation); plt.colorbar()\n",
    "plt.title('Covariance matrix (summed over discrete angles)')\n",
    "plt.savefig('XY_covariance_summed_N%s_S%s_beta%s.png'%(N,data.shape[0],beta));\n",
    "plt.show()\n",
    "\n",
    "delta_C = np.zeros(N//2)\n",
    "for k in range(N//2):\n",
    "    index1 = np.arange(N)\n",
    "    index2 = (np.arange(N) + k) % N\n",
    "    delta_C[k] = np.abs(correlation)[index1,index2].mean()\n",
    "plt.semilogy(delta_C)\n",
    "plt.xlabel('Space')\n",
    "plt.ylabel('Covariance')\n",
    "plt.title('Covariance function (summed over discrete angles)')\n",
    "plt.savefig('XY_covariance_function_N%s_S%s_beta%s.png'%(N,data.shape[0],beta));\n",
    "plt.show()\n",
    "\n"
   ]
  },
  {
   "cell_type": "code",
   "execution_count": 86,
   "metadata": {},
   "outputs": [
    {
     "data": {
      "text/plain": [
       "(10, 10)"
      ]
     },
     "execution_count": 86,
     "metadata": {},
     "output_type": "execute_result"
    }
   ],
   "source": [
    "C.shape"
   ]
  },
  {
   "cell_type": "code",
   "execution_count": 94,
   "metadata": {},
   "outputs": [
    {
     "data": {
      "text/plain": [
       "<matplotlib.colorbar.Colorbar at 0x939e2fe48>"
      ]
     },
     "execution_count": 94,
     "metadata": {},
     "output_type": "execute_result"
    },
    {
     "data": {
      "image/png": "[encoded data removed]",
      "text/plain": [
       "<Figure size 432x288 with 2 Axes>"
      ]
     },
     "metadata": {
      "needs_background": "light"
     },
     "output_type": "display_data"
    }
   ],
   "source": [
    "plt.imshow(np.abs(C-C_shuffled).sum(-1).sum(-1) ); plt.colorbar()"
   ]
  },
  {
   "cell_type": "code",
   "execution_count": 112,
   "metadata": {},
   "outputs": [
    {
     "data": {
      "text/plain": [
       "(100000, 100)"
      ]
     },
     "execution_count": 112,
     "metadata": {},
     "output_type": "execute_result"
    }
   ],
   "source": [
    "order.shape"
   ]
  },
  {
   "cell_type": "code",
   "execution_count": 115,
   "metadata": {},
   "outputs": [
    {
     "name": "stdout",
     "output_type": "stream",
     "text": [
      "4.4341283\n",
      "1.3281482\n"
     ]
    }
   ],
   "source": [
    "C = utilities.covariance(data,data,c1=n_c,c2=n_c)\n",
    "diag = C[np.arange(N),np.arange(N),:,:][:,np.arange(n_c),np.arange(n_c)]\n",
    "C/= np.sqrt(diag[:,np.newaxis,:,np.newaxis] * diag[np.newaxis,:,np.newaxis,:])\n",
    "C2D = np.swapaxes(C,1,2).reshape([n_c*N,n_c*N]) # Does the same thing as the commented code below.\n",
    "\n",
    "\n",
    "\n",
    "order = np.argsort(np.random.randn(data.shape[0],N),axis=0)\n",
    "shuffled_data = np.zeros_like(data)\n",
    "for n in range(N):\n",
    "    shuffled_data[:,n] = data[order[:,n],n]\n",
    "C_shuffled = utilities.covariance(shuffled_data,shuffled_data,c1=n_c,c2=n_c)\n",
    "diag_shuffled = C_shuffled[np.arange(N),np.arange(N),:,:][:,np.arange(n_c),np.arange(n_c)]\n",
    "C_shuffled /= np.sqrt(diag_shuffled[:,np.newaxis,:,np.newaxis] * diag_shuffled[np.newaxis,:,np.newaxis,:])\n",
    "\n",
    "C2D_shuffled = np.swapaxes(C_shuffled,1,2).reshape([n_c*N,n_c*N]) # Does the same thing as the commented code below.\n",
    "\n",
    "# C2D = np.zeros([N*n_c,N*n_c])\n",
    "# for i1 in range(N):\n",
    "#     for i2 in range(N):\n",
    "#         for c1 in range(n_c):\n",
    "#             for c2 in range(n_c):\n",
    "#                 C2D[i1*n_c+c1,i2*n_c+c2] = C[i1,i2,c1,c2]\n",
    " \n",
    "\n",
    "lam,V = eigh(C2D);\n",
    "idx = np.argmax(lam)\n",
    "print(lam[idx])\n",
    "\n",
    "lam_shuffled,V_shuffled = eigh(C2D_shuffled);\n",
    "idx_shuffled = np.argmax(lam_shuffled)\n",
    "print(lam_shuffled[idx_shuffled])\n",
    "\n",
    "\n",
    "\n",
    "    \n",
    "    "
   ]
  },
  {
   "cell_type": "code",
   "execution_count": 42,
   "metadata": {},
   "outputs": [
    {
     "data": {
      "image/png": "[encoded data removed]",
      "text/plain": [
       "<Figure size 432x288 with 1 Axes>"
      ]
     },
     "metadata": {
      "needs_background": "light"
     },
     "output_type": "display_data"
    }
   ],
   "source": [
    "delta_C = np.zeros(N//2)\n",
    "for k in range(N//2):\n",
    "    index1 = np.arange(N)\n",
    "    index2 = (np.arange(N) + k) % N\n",
    "    delta_C[k] = np.abs(correlation)[index1,index2].mean()\n",
    "plt.semilogy(delta_C)\n",
    "plt.xlabel('Space')\n",
    "plt.ylabel('Covariance')\n",
    "plt.title('Covariance function (summed over discrete angles)')\n",
    "plt.savefig('XY_covariance_function_N%s_S%s_beta%s.png'%(N,data.shape[0],beta));\n",
    "plt.show()"
   ]
  },
  {
   "cell_type": "code",
   "execution_count": 51,
   "metadata": {},
   "outputs": [],
   "source": [
    "C = utilities.covariance(data,data,c1=n_c,c2=n_c)\n",
    "diag = C[np.arange(N),np.arange(N),:,:][:,np.arange(n_c),np.arange(n_c)]\n",
    "\n"
   ]
  },
  {
   "cell_type": "code",
   "execution_count": 54,
   "metadata": {},
   "outputs": [
    {
     "data": {
      "text/plain": [
       "<matplotlib.colorbar.Colorbar at 0x92558bb00>"
      ]
     },
     "execution_count": 54,
     "metadata": {},
     "output_type": "execute_result"
    },
    {
     "data": {
      "image/png": "[encoded data removed]",
      "text/plain": [
       "<Figure size 432x288 with 2 Axes>"
      ]
     },
     "metadata": {
      "needs_background": "light"
     },
     "output_type": "display_data"
    }
   ],
   "source": [
    "plt.imshow(C[0,0]); plt.colorbar()"
   ]
  },
  {
   "cell_type": "code",
   "execution_count": 68,
   "metadata": {},
   "outputs": [
    {
     "name": "stdout",
     "output_type": "stream",
     "text": [
      "[[ 1.         -0.11111111 -0.11111111 -0.11111111 -0.11111111 -0.11111111\n",
      "  -0.11111111 -0.11111111 -0.11111111 -0.11111111]\n",
      " [-0.11111111  1.         -0.11111111 -0.11111111 -0.11111111 -0.11111111\n",
      "  -0.11111111 -0.11111111 -0.11111111 -0.11111111]\n",
      " [-0.11111111 -0.11111111  1.         -0.11111111 -0.11111111 -0.11111111\n",
      "  -0.11111111 -0.11111111 -0.11111111 -0.11111111]\n",
      " [-0.11111111 -0.11111111 -0.11111111  1.         -0.11111111 -0.11111111\n",
      "  -0.11111111 -0.11111111 -0.11111111 -0.11111111]\n",
      " [-0.11111111 -0.11111111 -0.11111111 -0.11111111  1.         -0.11111111\n",
      "  -0.11111111 -0.11111111 -0.11111111 -0.11111111]\n",
      " [-0.11111111 -0.11111111 -0.11111111 -0.11111111 -0.11111111  1.\n",
      "  -0.11111111 -0.11111111 -0.11111111 -0.11111111]\n",
      " [-0.11111111 -0.11111111 -0.11111111 -0.11111111 -0.11111111 -0.11111111\n",
      "   1.         -0.11111111 -0.11111111 -0.11111111]\n",
      " [-0.11111111 -0.11111111 -0.11111111 -0.11111111 -0.11111111 -0.11111111\n",
      "  -0.11111111  1.         -0.11111111 -0.11111111]\n",
      " [-0.11111111 -0.11111111 -0.11111111 -0.11111111 -0.11111111 -0.11111111\n",
      "  -0.11111111 -0.11111111  1.         -0.11111111]\n",
      " [-0.11111111 -0.11111111 -0.11111111 -0.11111111 -0.11111111 -0.11111111\n",
      "  -0.11111111 -0.11111111 -0.11111111  1.        ]]\n",
      "[2.22044605e-16 1.11111111e+00 1.11111111e+00 1.11111111e+00\n",
      " 1.11111111e+00 1.11111111e+00 1.11111111e+00 1.11111111e+00\n",
      " 1.11111111e+00 1.11111111e+00]\n"
     ]
    }
   ],
   "source": [
    "q = 10\n",
    "C = np.zeros([q,q])\n",
    "for a in range(q):\n",
    "    for b in range(q):\n",
    "        if a==b:\n",
    "            C[a,b] += 1/q\n",
    "        C[a,b] -= 1/q**2\n",
    "\n",
    "D = np.diag(C)\n",
    "        \n",
    "R = C/np.sqrt(D[np.newaxis,:]*D[:,np.newaxis])\n",
    "print(R)\n",
    "lam,V = np.linalg.eigh(R)\n",
    "print(lam)"
   ]
  },
  {
   "cell_type": "code",
   "execution_count": 62,
   "metadata": {},
   "outputs": [
    {
     "data": {
      "text/plain": [
       "<matplotlib.colorbar.Colorbar at 0x9253e1d68>"
      ]
     },
     "execution_count": 62,
     "metadata": {},
     "output_type": "execute_result"
    },
    {
     "data": {
      "image/png": "[encoded data removed]",
      "text/plain": [
       "<Figure size 432x288 with 2 Axes>"
      ]
     },
     "metadata": {
      "needs_background": "light"
     },
     "output_type": "display_data"
    }
   ],
   "source": [
    "mu = utilities.average(data,c=n_c)\n",
    "plt.imshow(diag- mu*(1-mu)); plt.colorbar()"
   ]
  },
  {
   "cell_type": "code",
   "execution_count": 108,
   "metadata": {},
   "outputs": [
    {
     "name": "stdout",
     "output_type": "stream",
     "text": [
      "1.3281778\n"
     ]
    }
   ],
   "source": [
    "data_check = np.random.randint(0,high=n_c,size=[int(1e5),100]).astype(np.int16)\n",
    "\n",
    "C_check = utilities.covariance(data_check,data_check,c1=n_c,c2=n_c)\n",
    "diag_check = C_check[np.arange(N),np.arange(N),:,:][:,np.arange(n_c),np.arange(n_c)]\n",
    "C_check/= np.sqrt(diag_check[:,np.newaxis,:,np.newaxis] * diag_check[np.newaxis,:,np.newaxis,:])\n",
    "\n",
    "C2D_check = np.swapaxes(C_check,1,2).reshape([n_c*N,n_c*N]) # Does the same thing as the commented code below.\n",
    "\n",
    "# C2D = np.zeros([N*n_c,N*n_c])\n",
    "# for i1 in range(N):\n",
    "#     for i2 in range(N):\n",
    "#         for c1 in range(n_c):\n",
    "#             for c2 in range(n_c):\n",
    "#                 C2D[i1*n_c+c1,i2*n_c+c2] = C[i1,i2,c1,c2]\n",
    " \n",
    "\n",
    "lam_check,V_check = eigh(C2D_check);\n",
    "idx_check = np.argmax(lam_check)\n",
    "print(lam_check[idx_check])\n",
    "\n"
   ]
  },
  {
   "cell_type": "code",
   "execution_count": 110,
   "metadata": {},
   "outputs": [
    {
     "data": {
      "text/plain": [
       "[<matplotlib.lines.Line2D at 0x939d6f940>]"
      ]
     },
     "execution_count": 110,
     "metadata": {},
     "output_type": "execute_result"
    },
    {
     "data": {
      "image/png": "[encoded data removed]",
      "text/plain": [
       "<Figure size 432x288 with 1 Axes>"
      ]
     },
     "metadata": {
      "needs_background": "light"
     },
     "output_type": "display_data"
    }
   ],
   "source": [
    "plt.plot(lam_check)\n",
    "plt.plot(lam_shuffled)\n",
    "plt.plot(lam)"
   ]
  },
  {
   "cell_type": "code",
   "execution_count": 107,
   "metadata": {},
   "outputs": [
    {
     "data": {
      "image/png": "[encoded data removed]",
      "text/plain": [
       "<Figure size 432x288 with 1 Axes>"
      ]
     },
     "metadata": {
      "needs_background": "light"
     },
     "output_type": "display_data"
    }
   ],
   "source": [
    "plt.hist([C.flatten(),C_shuffled.flatten(),C_check.flatten()],bins=100,log=True,histtype='step');"
   ]
  }
 ],
 "metadata": {
  "kernelspec": {
   "display_name": "Python 3 (conda)",
   "language": "python",
   "name": "python3"
  },
  "language_info": {
   "codemirror_mode": {
    "name": "ipython",
    "version": 3
   },
   "file_extension": ".py",
   "mimetype": "text/x-python",
   "name": "python",
   "nbconvert_exporter": "python",
   "pygments_lexer": "ipython3",
   "version": "3.6.8"
  }
 },
 "nbformat": 4,
 "nbformat_minor": 2
}
